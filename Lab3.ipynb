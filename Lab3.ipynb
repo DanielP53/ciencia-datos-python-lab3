{
 "cells": [
  {
   "cell_type": "markdown",
   "metadata": {},
   "source": [
    "# Laboratorio 3 Numpy y Pandas\n",
    "### Ciencia de Datos en Python\n",
    "### Seccion V\n",
    "### 17001393\n",
    "### Pablo Daniel Passarelli López"
   ]
  },
  {
   "cell_type": "code",
   "execution_count": null,
   "metadata": {
    "vscode": {
     "languageId": "plaintext"
    }
   },
   "outputs": [],
   "source": []
  }
 ],
 "metadata": {
  "language_info": {
   "name": "python"
  }
 },
 "nbformat": 4,
 "nbformat_minor": 2
}
